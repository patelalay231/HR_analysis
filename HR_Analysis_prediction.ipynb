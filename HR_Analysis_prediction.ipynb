{
 "cells": [
  {
   "cell_type": "markdown",
   "metadata": {},
   "source": [
    "Context and Content<br><br>\n",
    "A company which is active in Big Data and Data Science wants to hire data scientists among people who successfully pass some courses which conduct by the company. Many people signup for their training. Company wants to know which of these candidates are really wants to work for the company after training or looking for a new employment because it helps to reduce the cost and time as well as the quality of training or planning the courses and categorization of candidates. Information related to demographics, education, experience are in hands from candidates signup and enrollment.\n",
    "\n",
    "This dataset designed to understand the factors that lead a person to leave current job for HR researches too. By model(s) that uses the current credentials,demographics,experience data you will predict the probability of a candidate to look for a new job or will work for the company, as well as interpreting affected factors on employee decision.\n",
    "\n",
    "The whole data divided to train and test . Target isn't included in test but the test target values data file is in hands for related tasks. A sample submission correspond to enrollee_id of test set provided too with columns : enrollee _id , target\n",
    "\n",
    "Note:<br><br>\n",
    "\n",
    "The dataset is imbalanced.\n",
    "Most features are categorical (Nominal, Ordinal, Binary), some with high cardinality.\n",
    "Missing imputation can be a part of your pipeline as well.\n",
    "Features\n",
    "\n",
    "enrollee_id : Unique ID for candidate\n",
    "\n",
    "city: City code\n",
    "\n",
    "city_ development _index : Developement index of the city (scaled)\n",
    "\n",
    "gender: Gender of candidate\n",
    "\n",
    "relevent_experience: Relevant experience of candidate\n",
    "\n",
    "enrolled_university: Type of University course enrolled if any\n",
    "\n",
    "education_level: Education level of candidate\n",
    "\n",
    "major_discipline :Education major discipline of candidate\n",
    "\n",
    "experience: Candidate total experience in years\n",
    "\n",
    "company_size: No of employees in current employer's company\n",
    "\n",
    "company_type : Type of current employer\n",
    "\n",
    "lastnewjob: Difference in years between previous job and current job\n",
    "\n",
    "training_hours: training hours completed\n",
    "\n",
    "target: 0 – Not looking for job change, 1 – Looking for a job change\n",
    "\n",
    "Inspiration\n",
    "Predict the probability of a candidate will work for the company\n",
    "Interpret model(s) such a way that illustrate which features affect candidate decision"
   ]
  },
  {
   "cell_type": "code",
   "execution_count": 607,
   "metadata": {},
   "outputs": [],
   "source": [
    "import pandas as pd\n",
    "import seaborn as sns\n",
    "import matplotlib.pyplot as plt"
   ]
  },
  {
   "cell_type": "code",
   "execution_count": 608,
   "metadata": {},
   "outputs": [],
   "source": [
    "df = pd.read_csv('C:/Users/patel/Downloads/archive/aug_train.csv')"
   ]
  },
  {
   "cell_type": "code",
   "execution_count": 609,
   "metadata": {},
   "outputs": [],
   "source": [
    "pd.set_option('display.max_columns',None)\n",
    "pd.set_option('display.max_rows',None)"
   ]
  },
  {
   "cell_type": "code",
   "execution_count": 610,
   "metadata": {},
   "outputs": [
    {
     "data": {
      "text/html": [
       "<div>\n",
       "<style scoped>\n",
       "    .dataframe tbody tr th:only-of-type {\n",
       "        vertical-align: middle;\n",
       "    }\n",
       "\n",
       "    .dataframe tbody tr th {\n",
       "        vertical-align: top;\n",
       "    }\n",
       "\n",
       "    .dataframe thead th {\n",
       "        text-align: right;\n",
       "    }\n",
       "</style>\n",
       "<table border=\"1\" class=\"dataframe\">\n",
       "  <thead>\n",
       "    <tr style=\"text-align: right;\">\n",
       "      <th></th>\n",
       "      <th>enrollee_id</th>\n",
       "      <th>city</th>\n",
       "      <th>city_development_index</th>\n",
       "      <th>gender</th>\n",
       "      <th>relevent_experience</th>\n",
       "      <th>enrolled_university</th>\n",
       "      <th>education_level</th>\n",
       "      <th>major_discipline</th>\n",
       "      <th>experience</th>\n",
       "      <th>company_size</th>\n",
       "      <th>company_type</th>\n",
       "      <th>last_new_job</th>\n",
       "      <th>training_hours</th>\n",
       "      <th>target</th>\n",
       "    </tr>\n",
       "  </thead>\n",
       "  <tbody>\n",
       "    <tr>\n",
       "      <th>0</th>\n",
       "      <td>8949</td>\n",
       "      <td>city_103</td>\n",
       "      <td>0.920</td>\n",
       "      <td>Male</td>\n",
       "      <td>Has relevent experience</td>\n",
       "      <td>no_enrollment</td>\n",
       "      <td>Graduate</td>\n",
       "      <td>STEM</td>\n",
       "      <td>&gt;20</td>\n",
       "      <td>NaN</td>\n",
       "      <td>NaN</td>\n",
       "      <td>1</td>\n",
       "      <td>36</td>\n",
       "      <td>1.0</td>\n",
       "    </tr>\n",
       "    <tr>\n",
       "      <th>1</th>\n",
       "      <td>29725</td>\n",
       "      <td>city_40</td>\n",
       "      <td>0.776</td>\n",
       "      <td>Male</td>\n",
       "      <td>No relevent experience</td>\n",
       "      <td>no_enrollment</td>\n",
       "      <td>Graduate</td>\n",
       "      <td>STEM</td>\n",
       "      <td>15</td>\n",
       "      <td>50-99</td>\n",
       "      <td>Pvt Ltd</td>\n",
       "      <td>&gt;4</td>\n",
       "      <td>47</td>\n",
       "      <td>0.0</td>\n",
       "    </tr>\n",
       "    <tr>\n",
       "      <th>2</th>\n",
       "      <td>11561</td>\n",
       "      <td>city_21</td>\n",
       "      <td>0.624</td>\n",
       "      <td>NaN</td>\n",
       "      <td>No relevent experience</td>\n",
       "      <td>Full time course</td>\n",
       "      <td>Graduate</td>\n",
       "      <td>STEM</td>\n",
       "      <td>5</td>\n",
       "      <td>NaN</td>\n",
       "      <td>NaN</td>\n",
       "      <td>never</td>\n",
       "      <td>83</td>\n",
       "      <td>0.0</td>\n",
       "    </tr>\n",
       "    <tr>\n",
       "      <th>3</th>\n",
       "      <td>33241</td>\n",
       "      <td>city_115</td>\n",
       "      <td>0.789</td>\n",
       "      <td>NaN</td>\n",
       "      <td>No relevent experience</td>\n",
       "      <td>NaN</td>\n",
       "      <td>Graduate</td>\n",
       "      <td>Business Degree</td>\n",
       "      <td>&lt;1</td>\n",
       "      <td>NaN</td>\n",
       "      <td>Pvt Ltd</td>\n",
       "      <td>never</td>\n",
       "      <td>52</td>\n",
       "      <td>1.0</td>\n",
       "    </tr>\n",
       "    <tr>\n",
       "      <th>4</th>\n",
       "      <td>666</td>\n",
       "      <td>city_162</td>\n",
       "      <td>0.767</td>\n",
       "      <td>Male</td>\n",
       "      <td>Has relevent experience</td>\n",
       "      <td>no_enrollment</td>\n",
       "      <td>Masters</td>\n",
       "      <td>STEM</td>\n",
       "      <td>&gt;20</td>\n",
       "      <td>50-99</td>\n",
       "      <td>Funded Startup</td>\n",
       "      <td>4</td>\n",
       "      <td>8</td>\n",
       "      <td>0.0</td>\n",
       "    </tr>\n",
       "  </tbody>\n",
       "</table>\n",
       "</div>"
      ],
      "text/plain": [
       "   enrollee_id      city  city_development_index gender  \\\n",
       "0         8949  city_103                   0.920   Male   \n",
       "1        29725   city_40                   0.776   Male   \n",
       "2        11561   city_21                   0.624    NaN   \n",
       "3        33241  city_115                   0.789    NaN   \n",
       "4          666  city_162                   0.767   Male   \n",
       "\n",
       "       relevent_experience enrolled_university education_level  \\\n",
       "0  Has relevent experience       no_enrollment        Graduate   \n",
       "1   No relevent experience       no_enrollment        Graduate   \n",
       "2   No relevent experience    Full time course        Graduate   \n",
       "3   No relevent experience                 NaN        Graduate   \n",
       "4  Has relevent experience       no_enrollment         Masters   \n",
       "\n",
       "  major_discipline experience company_size    company_type last_new_job  \\\n",
       "0             STEM        >20          NaN             NaN            1   \n",
       "1             STEM         15        50-99         Pvt Ltd           >4   \n",
       "2             STEM          5          NaN             NaN        never   \n",
       "3  Business Degree         <1          NaN         Pvt Ltd        never   \n",
       "4             STEM        >20        50-99  Funded Startup            4   \n",
       "\n",
       "   training_hours  target  \n",
       "0              36     1.0  \n",
       "1              47     0.0  \n",
       "2              83     0.0  \n",
       "3              52     1.0  \n",
       "4               8     0.0  "
      ]
     },
     "execution_count": 610,
     "metadata": {},
     "output_type": "execute_result"
    }
   ],
   "source": [
    "df.head()"
   ]
  },
  {
   "cell_type": "markdown",
   "metadata": {},
   "source": [
    "First We check which columns are important or which are not important for our model.look at the rows we found that our target attribute (target attribute predict that a person looking for a new job or work for our company) it's not depended on the enrollment no and city also so we drop that columns"
   ]
  },
  {
   "cell_type": "code",
   "execution_count": 611,
   "metadata": {},
   "outputs": [],
   "source": [
    "df_preproceesing = df.drop(['enrollee_id','city'],axis=1)"
   ]
  },
  {
   "cell_type": "code",
   "execution_count": 612,
   "metadata": {},
   "outputs": [
    {
     "name": "stdout",
     "output_type": "stream",
     "text": [
      "<class 'pandas.core.frame.DataFrame'>\n",
      "RangeIndex: 19158 entries, 0 to 19157\n",
      "Data columns (total 12 columns):\n",
      " #   Column                  Non-Null Count  Dtype  \n",
      "---  ------                  --------------  -----  \n",
      " 0   city_development_index  19158 non-null  float64\n",
      " 1   gender                  14650 non-null  object \n",
      " 2   relevent_experience     19158 non-null  object \n",
      " 3   enrolled_university     18772 non-null  object \n",
      " 4   education_level         18698 non-null  object \n",
      " 5   major_discipline        16345 non-null  object \n",
      " 6   experience              19093 non-null  object \n",
      " 7   company_size            13220 non-null  object \n",
      " 8   company_type            13018 non-null  object \n",
      " 9   last_new_job            18735 non-null  object \n",
      " 10  training_hours          19158 non-null  int64  \n",
      " 11  target                  19158 non-null  float64\n",
      "dtypes: float64(2), int64(1), object(9)\n",
      "memory usage: 1.8+ MB\n"
     ]
    }
   ],
   "source": [
    "df_preproceesing.info()"
   ]
  },
  {
   "cell_type": "markdown",
   "metadata": {},
   "source": [
    "Now We preprocess our data."
   ]
  },
  {
   "cell_type": "markdown",
   "metadata": {},
   "source": [
    "1.handle missing values"
   ]
  },
  {
   "cell_type": "code",
   "execution_count": 613,
   "metadata": {
    "scrolled": true
   },
   "outputs": [
    {
     "name": "stdout",
     "output_type": "stream",
     "text": [
      "                        missing values in %\n",
      "city_development_index             0.000000\n",
      "gender                            23.530640\n",
      "relevent_experience                0.000000\n",
      "enrolled_university                2.014824\n",
      "education_level                    2.401086\n",
      "major_discipline                  14.683161\n",
      "experience                         0.339284\n",
      "company_size                      30.994885\n",
      "company_type                      32.049274\n",
      "last_new_job                       2.207955\n",
      "training_hours                     0.000000\n",
      "target                             0.000000\n"
     ]
    }
   ],
   "source": [
    "print(pd.DataFrame(df_preproceesing.isnull().sum()/len(df_preproceesing)*100,columns=['missing values in %']))"
   ]
  },
  {
   "cell_type": "code",
   "execution_count": 614,
   "metadata": {},
   "outputs": [],
   "source": [
    "df_object_columns = list(df_preproceesing.select_dtypes(['object']).columns)\n",
    "df_object_columns_unique_value = [list(df_preproceesing[i].unique()) for i in df_object_columns]"
   ]
  },
  {
   "cell_type": "markdown",
   "metadata": {},
   "source": [
    "These all are unique values which are presents in all categorical features.please ingone the nan value<br><br>\n",
    "[['Male', nan, 'Female', 'Other'],\n",
    " ['Has relevent experience', 'No relevent experience'],\n",
    " ['no_enrollment', 'Full time course', nan, 'Part time course'],\n",
    " ['Graduate', 'Masters', 'High School', nan, 'Phd', 'Primary School'],\n",
    " ['STEM', 'Business Degree', nan, 'Arts', 'Humanities', 'No Major', 'Other'],\n",
    " ['>20',\n",
    "  '15',\n",
    "  '5',\n",
    "  '<1',\n",
    "  '11',\n",
    "  '13',\n",
    "  '7',\n",
    "  '17',\n",
    "  '2',\n",
    "  '16',\n",
    "  '1',\n",
    "  '4',\n",
    "  '10',\n",
    "  '14',\n",
    "  '18',\n",
    "  '19',\n",
    "  '12',\n",
    "  '3',\n",
    "  '6',\n",
    "  '9',\n",
    "  '8',\n",
    "  '20',\n",
    "  nan],\n",
    " [nan,\n",
    "  '50-99',\n",
    "  '<10',\n",
    "  '10000+',\n",
    "  '5000-9999',\n",
    "  '1000-4999',\n",
    "  '10/49',\n",
    "  '100-500',\n",
    "  '500-999'],\n",
    " [nan,\n",
    "  'Pvt Ltd',\n",
    "  'Funded Startup',\n",
    "  'Early Stage Startup',\n",
    "  'Other',\n",
    "  'Public Sector',\n",
    "  'NGO'],\n",
    " ['1', '>4', 'never', '4', '3', '2', nan]]"
   ]
  },
  {
   "cell_type": "code",
   "execution_count": 615,
   "metadata": {},
   "outputs": [],
   "source": [
    "def piechart(column_name,labels):\n",
    "    plt.figure(figsize=(8,8))\n",
    "    plt.pie(df_preproceesing[column_name].value_counts(),shadow=True,labels=labels,autopct = '%1.2f%%')"
   ]
  },
  {
   "cell_type": "markdown",
   "metadata": {},
   "source": [
    "Like This we can plot any feature"
   ]
  },
  {
   "cell_type": "code",
   "execution_count": 616,
   "metadata": {},
   "outputs": [
    {
     "data": {
      "image/png": "[encoded data removed]",
      "text/plain": [
       "<Figure size 576x576 with 1 Axes>"
      ]
     },
     "metadata": {},
     "output_type": "display_data"
    }
   ],
   "source": [
    "piechart('relevent_experience',['Has relevent experience', 'No relevent experience'])"
   ]
  },
  {
   "cell_type": "markdown",
   "metadata": {},
   "source": [
    "we assume that in gender feature all nan values are treat as Other category"
   ]
  },
  {
   "cell_type": "code",
   "execution_count": 617,
   "metadata": {},
   "outputs": [],
   "source": [
    "df_preproceesing['gender'] = df_preproceesing['gender'].fillna(\"Other\")\n",
    "df_preproceesing['relevent_experience'] = df_preproceesing['relevent_experience'].fillna(\"No relevent experience\")\n",
    "df_preproceesing['enrolled_university'] = df_preproceesing['enrolled_university'].fillna(\"no_enrollment\")\n",
    "df_preproceesing['experience'] = df_preproceesing['experience'].fillna(\"<1\")\n",
    "df_preproceesing['company_size'] = df_preproceesing['company_size'].fillna(\"<10\")\n",
    "df_preproceesing['last_new_job'] = df_preproceesing['last_new_job'].fillna(\"never\")"
   ]
  },
  {
   "cell_type": "markdown",
   "metadata": {},
   "source": [
    "Basically if we have categorical feature with Nan value then we fill them with mode of that feature\n",
    "\n",
    "and if we have numrical feature than we first check distrubation if there is normal distrubation then we fill with mean otherwise we fill missing value with median"
   ]
  },
  {
   "cell_type": "markdown",
   "metadata": {},
   "source": [
    "This is basically fill a mode value at missing place"
   ]
  },
  {
   "cell_type": "code",
   "execution_count": 618,
   "metadata": {},
   "outputs": [],
   "source": [
    "for i in df_object_columns:\n",
    "    m =  df_preproceesing[i].mode()[0]\n",
    "    df_preproceesing[i] = df_preproceesing[i].fillna(m)"
   ]
  },
  {
   "cell_type": "markdown",
   "metadata": {},
   "source": [
    "Now we check number of increment or decrement in particular categorie"
   ]
  },
  {
   "cell_type": "code",
   "execution_count": 619,
   "metadata": {},
   "outputs": [
    {
     "data": {
      "text/plain": [
       "<AxesSubplot:xlabel='last_new_job', ylabel='count'>"
      ]
     },
     "execution_count": 619,
     "metadata": {},
     "output_type": "execute_result"
    },
    {
     "data": {
      "image/png": "[encoded data removed]",
      "text/plain": [
       "<Figure size 1080x2160 with 16 Axes>"
      ]
     },
     "metadata": {
      "needs_background": "light"
     },
     "output_type": "display_data"
    }
   ],
   "source": [
    "fig, axs = plt.subplots(nrows=8,ncols=2, figsize=(15,30))\n",
    "sns.countplot(x=\"relevent_experience\",hue='target', data=df, ax=axs[0,0])\n",
    "sns.countplot(x=\"relevent_experience\",hue='target', data=df_preproceesing, ax=axs[0,1])\n",
    "sns.countplot(x=\"enrolled_university\",hue='target', data=df, ax=axs[1,0])\n",
    "sns.countplot(x=\"enrolled_university\",hue='target', data=df_preproceesing, ax=axs[1,1])\n",
    "sns.countplot(x=\"education_level\",hue='target', data=df, ax=axs[2,0])\n",
    "sns.countplot(x=\"education_level\",hue='target', data=df_preproceesing, ax=axs[2,1])\n",
    "sns.countplot(x=\"major_discipline\",hue='target', data=df, ax=axs[3,0])\n",
    "sns.countplot(x=\"major_discipline\",hue='target', data=df_preproceesing, ax=axs[3,1])\n",
    "sns.countplot(x=\"experience\",hue='target', data=df, ax=axs[4,0])\n",
    "sns.countplot(x=\"experience\",hue='target', data=df_preproceesing, ax=axs[4,1])\n",
    "sns.countplot(x=\"company_size\",hue='target', data=df, ax=axs[5,0])\n",
    "sns.countplot(x=\"company_size\",hue='target', data=df_preproceesing, ax=axs[5,1])\n",
    "sns.countplot(x=\"company_type\",hue='target', data=df, ax=axs[6,0])\n",
    "sns.countplot(x=\"company_type\",hue='target', data=df_preproceesing, ax=axs[6,1])\n",
    "sns.countplot(x=\"last_new_job\",hue='target', data=df, ax=axs[7,0])\n",
    "sns.countplot(x=\"last_new_job\",hue='target', data=df_preproceesing, ax=axs[7,1])"
   ]
  },
  {
   "cell_type": "markdown",
   "metadata": {},
   "source": [
    "Now we encode our data using ordinalencoder or onehotencoding"
   ]
  },
  {
   "cell_type": "code",
   "execution_count": 620,
   "metadata": {},
   "outputs": [
    {
     "name": "stdout",
     "output_type": "stream",
     "text": [
      "gender : 3 categories\n",
      "relevent_experience : 2 categories\n",
      "enrolled_university : 3 categories\n",
      "education_level : 5 categories\n",
      "major_discipline : 6 categories\n",
      "experience : 22 categories\n",
      "company_size : 8 categories\n",
      "company_type : 6 categories\n",
      "last_new_job : 6 categories\n"
     ]
    }
   ],
   "source": [
    "for i in df_object_columns:\n",
    "    print(f\"{i} : {len(df_preproceesing[i].unique())} categories\")"
   ]
  },
  {
   "cell_type": "markdown",
   "metadata": {},
   "source": [
    "<h3>First we encoding all ordinal categorical variable using this code</h3><br><br>\n",
    "(ordinal means a categorical value with an order like a good,bad,andvery good that means we can assume that a bad is like 0 , good is like 1, and very good is like 2)"
   ]
  },
  {
   "cell_type": "code",
   "execution_count": 621,
   "metadata": {},
   "outputs": [],
   "source": [
    "gender_map = {\n",
    "    \"Male\": 0,\n",
    "    \"Female\": 1,\n",
    "    \"Other\": 2\n",
    "}"
   ]
  },
  {
   "cell_type": "code",
   "execution_count": 622,
   "metadata": {},
   "outputs": [],
   "source": [
    "relevent_experience_map = {\n",
    "    \"No relevent experience\": 0,\n",
    "    \"Has relevent experience\": 1\n",
    "}"
   ]
  },
  {
   "cell_type": "code",
   "execution_count": 623,
   "metadata": {},
   "outputs": [],
   "source": [
    "enrolled_university_map = {\n",
    "    \"no_enrollment\": 0,\n",
    "    \"Full time course\": 2,\n",
    "    \"Part time course\": 1\n",
    "}"
   ]
  },
  {
   "cell_type": "code",
   "execution_count": 624,
   "metadata": {},
   "outputs": [],
   "source": [
    "education_level_map = {\n",
    "    \"High School\": 1,\n",
    "    \"Primary School\" :0,\n",
    "    \"Phd\":4, \n",
    "    \"Masters\": 3,\n",
    "    \"Graduate\": 2\n",
    "}"
   ]
  },
  {
   "cell_type": "code",
   "execution_count": 625,
   "metadata": {},
   "outputs": [],
   "source": [
    "major_discipline_map = {\n",
    "    \"STEM\": 0,\n",
    "    \"Humanities\": 1,\n",
    "    \"Other\": 2,\n",
    "    \"Business Degree\": 3,\n",
    "    \"Arts\": 4,\n",
    "    \"No Major\": 5\n",
    "}"
   ]
  },
  {
   "cell_type": "code",
   "execution_count": 626,
   "metadata": {},
   "outputs": [],
   "source": [
    "experience_map = {\n",
    "    \"<1\": 0,\n",
    "    \"1\": 1,\n",
    "    \"2\": 2,\n",
    "    \"3\": 3,\n",
    "    \"4\": 4,\n",
    "    \"5\": 5,\n",
    "    \"6\": 6,\n",
    "    \"7\": 7,\n",
    "    \"8\": 8,\n",
    "    \"9\": 9,\n",
    "    \"10\": 10,\n",
    "    \"11\": 11,\n",
    "    \"12\": 12,\n",
    "    \"13\": 13,\n",
    "    \"14\": 14,\n",
    "    \"15\": 15,\n",
    "    \"16\": 16,\n",
    "    \"17\": 17,\n",
    "    \"18\": 18,\n",
    "    \"19\": 19,\n",
    "    \"20\": 20,\n",
    "    \">20\": 21,\n",
    "}"
   ]
  },
  {
   "cell_type": "code",
   "execution_count": 627,
   "metadata": {},
   "outputs": [],
   "source": [
    "company_size_map = {\n",
    "    \"<10\": 0,\n",
    "    \"10/49\": 1,\n",
    "    \"50-99\": 2,\n",
    "    \"100-500\": 3,\n",
    "    \"500-999\": 4,\n",
    "    \"1000-4999\": 5,\n",
    "    \"5000-9999\": 6,\n",
    "    \"10000+\": 7\n",
    "}"
   ]
  },
  {
   "cell_type": "code",
   "execution_count": 628,
   "metadata": {},
   "outputs": [],
   "source": [
    "company_type_map = {\n",
    "    \"Pvt Ltd\": 0,\n",
    "    \"Funded Startup\": 1,\n",
    "    \"Public Sector\": 2,\n",
    "    \"Early Stage Startup\": 3,\n",
    "    \"NGO\": 4,\n",
    "    \"Other\": 5,\n",
    "}"
   ]
  },
  {
   "cell_type": "code",
   "execution_count": 629,
   "metadata": {},
   "outputs": [],
   "source": [
    "last_new_job_map = {\n",
    "    \"never\": 0,\n",
    "    \"1\": 1,\n",
    "    \"2\": 2,\n",
    "    \"3\": 3,\n",
    "    \"4\": 4,\n",
    "    \">4\": 5,\n",
    "}"
   ]
  },
  {
   "cell_type": "code",
   "execution_count": 630,
   "metadata": {},
   "outputs": [],
   "source": [
    "df_preproceesing.gender = df_preproceesing.gender.map(gender_map)\n",
    "df_preproceesing.relevent_experience = df_preproceesing.relevent_experience.map(relevent_experience_map)\n",
    "df_preproceesing.enrolled_university = df_preproceesing.enrolled_university.map(enrolled_university_map)\n",
    "df_preproceesing.education_level = df_preproceesing.education_level.map(education_level_map)\n",
    "df_preproceesing.major_discipline = df_preproceesing.major_discipline.map(major_discipline_map)\n",
    "df_preproceesing.experience = df_preproceesing.experience.map(experience_map)\n",
    "df_preproceesing.company_size = df_preproceesing.company_size.map(company_size_map)\n",
    "df_preproceesing.company_type = df_preproceesing.company_type.map(company_type_map)\n",
    "df_preproceesing.last_new_job = df_preproceesing.last_new_job.map(last_new_job_map)"
   ]
  },
  {
   "cell_type": "code",
   "execution_count": 631,
   "metadata": {},
   "outputs": [
    {
     "data": {
      "text/plain": [
       "2    12058\n",
       "3     4361\n",
       "1     2017\n",
       "4      414\n",
       "0      308\n",
       "Name: education_level, dtype: int64"
      ]
     },
     "execution_count": 631,
     "metadata": {},
     "output_type": "execute_result"
    }
   ],
   "source": [
    "df_preproceesing.education_level.value_counts()"
   ]
  },
  {
   "cell_type": "code",
   "execution_count": 632,
   "metadata": {},
   "outputs": [
    {
     "data": {
      "text/html": [
       "<div>\n",
       "<style scoped>\n",
       "    .dataframe tbody tr th:only-of-type {\n",
       "        vertical-align: middle;\n",
       "    }\n",
       "\n",
       "    .dataframe tbody tr th {\n",
       "        vertical-align: top;\n",
       "    }\n",
       "\n",
       "    .dataframe thead th {\n",
       "        text-align: right;\n",
       "    }\n",
       "</style>\n",
       "<table border=\"1\" class=\"dataframe\">\n",
       "  <thead>\n",
       "    <tr style=\"text-align: right;\">\n",
       "      <th></th>\n",
       "      <th>city_development_index</th>\n",
       "      <th>gender</th>\n",
       "      <th>relevent_experience</th>\n",
       "      <th>enrolled_university</th>\n",
       "      <th>education_level</th>\n",
       "      <th>major_discipline</th>\n",
       "      <th>experience</th>\n",
       "      <th>company_size</th>\n",
       "      <th>company_type</th>\n",
       "      <th>last_new_job</th>\n",
       "      <th>training_hours</th>\n",
       "      <th>target</th>\n",
       "    </tr>\n",
       "  </thead>\n",
       "  <tbody>\n",
       "    <tr>\n",
       "      <th>0</th>\n",
       "      <td>0.920</td>\n",
       "      <td>0</td>\n",
       "      <td>1</td>\n",
       "      <td>0</td>\n",
       "      <td>2</td>\n",
       "      <td>0</td>\n",
       "      <td>21</td>\n",
       "      <td>0</td>\n",
       "      <td>0</td>\n",
       "      <td>1</td>\n",
       "      <td>36</td>\n",
       "      <td>1.0</td>\n",
       "    </tr>\n",
       "    <tr>\n",
       "      <th>1</th>\n",
       "      <td>0.776</td>\n",
       "      <td>0</td>\n",
       "      <td>0</td>\n",
       "      <td>0</td>\n",
       "      <td>2</td>\n",
       "      <td>0</td>\n",
       "      <td>15</td>\n",
       "      <td>2</td>\n",
       "      <td>0</td>\n",
       "      <td>5</td>\n",
       "      <td>47</td>\n",
       "      <td>0.0</td>\n",
       "    </tr>\n",
       "    <tr>\n",
       "      <th>2</th>\n",
       "      <td>0.624</td>\n",
       "      <td>2</td>\n",
       "      <td>0</td>\n",
       "      <td>2</td>\n",
       "      <td>2</td>\n",
       "      <td>0</td>\n",
       "      <td>5</td>\n",
       "      <td>0</td>\n",
       "      <td>0</td>\n",
       "      <td>0</td>\n",
       "      <td>83</td>\n",
       "      <td>0.0</td>\n",
       "    </tr>\n",
       "    <tr>\n",
       "      <th>3</th>\n",
       "      <td>0.789</td>\n",
       "      <td>2</td>\n",
       "      <td>0</td>\n",
       "      <td>0</td>\n",
       "      <td>2</td>\n",
       "      <td>3</td>\n",
       "      <td>0</td>\n",
       "      <td>0</td>\n",
       "      <td>0</td>\n",
       "      <td>0</td>\n",
       "      <td>52</td>\n",
       "      <td>1.0</td>\n",
       "    </tr>\n",
       "    <tr>\n",
       "      <th>4</th>\n",
       "      <td>0.767</td>\n",
       "      <td>0</td>\n",
       "      <td>1</td>\n",
       "      <td>0</td>\n",
       "      <td>3</td>\n",
       "      <td>0</td>\n",
       "      <td>21</td>\n",
       "      <td>2</td>\n",
       "      <td>1</td>\n",
       "      <td>4</td>\n",
       "      <td>8</td>\n",
       "      <td>0.0</td>\n",
       "    </tr>\n",
       "  </tbody>\n",
       "</table>\n",
       "</div>"
      ],
      "text/plain": [
       "   city_development_index  gender  relevent_experience  enrolled_university  \\\n",
       "0                   0.920       0                    1                    0   \n",
       "1                   0.776       0                    0                    0   \n",
       "2                   0.624       2                    0                    2   \n",
       "3                   0.789       2                    0                    0   \n",
       "4                   0.767       0                    1                    0   \n",
       "\n",
       "   education_level  major_discipline  experience  company_size  company_type  \\\n",
       "0                2                 0          21             0             0   \n",
       "1                2                 0          15             2             0   \n",
       "2                2                 0           5             0             0   \n",
       "3                2                 3           0             0             0   \n",
       "4                3                 0          21             2             1   \n",
       "\n",
       "   last_new_job  training_hours  target  \n",
       "0             1              36     1.0  \n",
       "1             5              47     0.0  \n",
       "2             0              83     0.0  \n",
       "3             0              52     1.0  \n",
       "4             4               8     0.0  "
      ]
     },
     "execution_count": 632,
     "metadata": {},
     "output_type": "execute_result"
    }
   ],
   "source": [
    "df_preproceesing.head()"
   ]
  },
  {
   "cell_type": "code",
   "execution_count": 633,
   "metadata": {},
   "outputs": [],
   "source": [
    "x = df_preproceesing.iloc[:,:-1]\n",
    "y = df_preproceesing.iloc[:,-1]"
   ]
  },
  {
   "cell_type": "code",
   "execution_count": 660,
   "metadata": {},
   "outputs": [],
   "source": [
    "from sklearn.preprocessing import StandardScaler\n",
    "from sklearn.model_selection import train_test_split\n",
    "\n",
    "sc = StandardScaler()\n",
    "\n",
    "x_train,x_test,y_train,y_test = train_test_split(x,y,test_size=0.2,random_state=42)"
   ]
  },
  {
   "cell_type": "code",
   "execution_count": 661,
   "metadata": {},
   "outputs": [],
   "source": [
    "x = pd.DataFrame(sc.fit_transform(x),columns=['city_development_index','gender','relevent_experience','enrolled_university','education_level','major_discipline','experience','company_size','company_type','last_new_job','training_hours'])"
   ]
  },
  {
   "cell_type": "code",
   "execution_count": 662,
   "metadata": {},
   "outputs": [],
   "source": [
    "from sklearn.svm import SVC"
   ]
  },
  {
   "cell_type": "code",
   "execution_count": 680,
   "metadata": {},
   "outputs": [],
   "source": [
    "model = SVC()"
   ]
  },
  {
   "cell_type": "code",
   "execution_count": 681,
   "metadata": {},
   "outputs": [
    {
     "data": {
      "text/plain": [
       "SVC()"
      ]
     },
     "execution_count": 681,
     "metadata": {},
     "output_type": "execute_result"
    }
   ],
   "source": [
    "model.fit(x_train,y_train)"
   ]
  },
  {
   "cell_type": "code",
   "execution_count": 682,
   "metadata": {},
   "outputs": [
    {
     "data": {
      "text/plain": [
       "0.7690501043841336"
      ]
     },
     "execution_count": 682,
     "metadata": {},
     "output_type": "execute_result"
    }
   ],
   "source": [
    "model.score(x_test,y_test)"
   ]
  },
  {
   "cell_type": "markdown",
   "metadata": {},
   "source": [
    "<h2>important message:- </h2>\n",
    "In this data i were only focused on just data cleaning ot data analysis dont mind about the low accuracy.int next project i will do one step ahed like which model best for our data which one give us best accuracy etc."
   ]
  },
  {
   "cell_type": "code",
   "execution_count": null,
   "metadata": {},
   "outputs": [],
   "source": []
  },
  {
   "cell_type": "code",
   "execution_count": null,
   "metadata": {},
   "outputs": [],
   "source": []
  },
  {
   "cell_type": "code",
   "execution_count": null,
   "metadata": {},
   "outputs": [],
   "source": []
  },
  {
   "cell_type": "code",
   "execution_count": null,
   "metadata": {},
   "outputs": [],
   "source": []
  }
 ],
 "metadata": {
  "kernelspec": {
   "display_name": "Python 3",
   "language": "python",
   "name": "python3"
  },
  "language_info": {
   "codemirror_mode": {
    "name": "ipython",
    "version": 3
   },
   "file_extension": ".py",
   "mimetype": "text/x-python",
   "name": "python",
   "nbconvert_exporter": "python",
   "pygments_lexer": "ipython3",
   "version": "3.7.0"
  }
 },
 "nbformat": 4,
 "nbformat_minor": 4
}
